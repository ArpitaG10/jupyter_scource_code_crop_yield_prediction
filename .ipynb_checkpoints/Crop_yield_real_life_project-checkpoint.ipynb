{
 "cells": [
  {
   "cell_type": "code",
   "execution_count": 1,
   "metadata": {},
   "outputs": [],
   "source": [
    "import pandas as pd\n",
    "from sklearn.preprocessing import LabelEncoder\n",
    "from sklearn.preprocessing import StandardScaler\n",
    "import seaborn as sns\n",
    "sns.set()\n",
    "import numpy as np\n",
    "import matplotlib.pyplot as plt"
   ]
  },
  {
   "cell_type": "code",
   "execution_count": 2,
   "metadata": {},
   "outputs": [],
   "source": [
    "raw_data = pd.read_csv('yield_df.csv')"
   ]
  },
  {
   "cell_type": "code",
   "execution_count": 3,
   "metadata": {},
   "outputs": [
    {
     "data": {
      "text/html": [
       "<div>\n",
       "<style scoped>\n",
       "    .dataframe tbody tr th:only-of-type {\n",
       "        vertical-align: middle;\n",
       "    }\n",
       "\n",
       "    .dataframe tbody tr th {\n",
       "        vertical-align: top;\n",
       "    }\n",
       "\n",
       "    .dataframe thead th {\n",
       "        text-align: right;\n",
       "    }\n",
       "</style>\n",
       "<table border=\"1\" class=\"dataframe\">\n",
       "  <thead>\n",
       "    <tr style=\"text-align: right;\">\n",
       "      <th></th>\n",
       "      <th>Unnamed: 0</th>\n",
       "      <th>Area</th>\n",
       "      <th>Item</th>\n",
       "      <th>Year</th>\n",
       "      <th>hg/ha_yield</th>\n",
       "      <th>average_rain_fall_mm_per_year</th>\n",
       "      <th>pesticides_tonnes</th>\n",
       "      <th>avg_temp</th>\n",
       "    </tr>\n",
       "  </thead>\n",
       "  <tbody>\n",
       "    <tr>\n",
       "      <th>6812</th>\n",
       "      <td>6812</td>\n",
       "      <td>Colombia</td>\n",
       "      <td>Maize</td>\n",
       "      <td>2007</td>\n",
       "      <td>27661</td>\n",
       "      <td>3240.0</td>\n",
       "      <td>82439.06</td>\n",
       "      <td>22.48</td>\n",
       "    </tr>\n",
       "    <tr>\n",
       "      <th>25611</th>\n",
       "      <td>25611</td>\n",
       "      <td>Spain</td>\n",
       "      <td>Soybeans</td>\n",
       "      <td>2010</td>\n",
       "      <td>23655</td>\n",
       "      <td>636.0</td>\n",
       "      <td>39043.00</td>\n",
       "      <td>12.01</td>\n",
       "    </tr>\n",
       "    <tr>\n",
       "      <th>17150</th>\n",
       "      <td>17150</td>\n",
       "      <td>Kazakhstan</td>\n",
       "      <td>Maize</td>\n",
       "      <td>1992</td>\n",
       "      <td>31214</td>\n",
       "      <td>250.0</td>\n",
       "      <td>17182.00</td>\n",
       "      <td>2.78</td>\n",
       "    </tr>\n",
       "    <tr>\n",
       "      <th>26979</th>\n",
       "      <td>26979</td>\n",
       "      <td>Turkey</td>\n",
       "      <td>Potatoes</td>\n",
       "      <td>2008</td>\n",
       "      <td>282947</td>\n",
       "      <td>593.0</td>\n",
       "      <td>37640.20</td>\n",
       "      <td>18.47</td>\n",
       "    </tr>\n",
       "    <tr>\n",
       "      <th>17017</th>\n",
       "      <td>17017</td>\n",
       "      <td>Japan</td>\n",
       "      <td>Yams</td>\n",
       "      <td>2010</td>\n",
       "      <td>226963</td>\n",
       "      <td>1668.0</td>\n",
       "      <td>55576.00</td>\n",
       "      <td>16.12</td>\n",
       "    </tr>\n",
       "  </tbody>\n",
       "</table>\n",
       "</div>"
      ],
      "text/plain": [
       "       Unnamed: 0        Area      Item  Year  hg/ha_yield  \\\n",
       "6812         6812    Colombia     Maize  2007        27661   \n",
       "25611       25611       Spain  Soybeans  2010        23655   \n",
       "17150       17150  Kazakhstan     Maize  1992        31214   \n",
       "26979       26979      Turkey  Potatoes  2008       282947   \n",
       "17017       17017       Japan      Yams  2010       226963   \n",
       "\n",
       "       average_rain_fall_mm_per_year  pesticides_tonnes  avg_temp  \n",
       "6812                          3240.0           82439.06     22.48  \n",
       "25611                          636.0           39043.00     12.01  \n",
       "17150                          250.0           17182.00      2.78  \n",
       "26979                          593.0           37640.20     18.47  \n",
       "17017                         1668.0           55576.00     16.12  "
      ]
     },
     "execution_count": 3,
     "metadata": {},
     "output_type": "execute_result"
    }
   ],
   "source": [
    "raw_data.sample(5)"
   ]
  },
  {
   "cell_type": "code",
   "execution_count": 238,
   "metadata": {},
   "outputs": [],
   "source": [
    "data = raw_data.copy()"
   ]
  },
  {
   "cell_type": "code",
   "execution_count": 239,
   "metadata": {},
   "outputs": [
    {
     "data": {
      "text/html": [
       "<div>\n",
       "<style scoped>\n",
       "    .dataframe tbody tr th:only-of-type {\n",
       "        vertical-align: middle;\n",
       "    }\n",
       "\n",
       "    .dataframe tbody tr th {\n",
       "        vertical-align: top;\n",
       "    }\n",
       "\n",
       "    .dataframe thead th {\n",
       "        text-align: right;\n",
       "    }\n",
       "</style>\n",
       "<table border=\"1\" class=\"dataframe\">\n",
       "  <thead>\n",
       "    <tr style=\"text-align: right;\">\n",
       "      <th></th>\n",
       "      <th>Unnamed: 0</th>\n",
       "      <th>Area</th>\n",
       "      <th>Item</th>\n",
       "      <th>Year</th>\n",
       "      <th>hg/ha_yield</th>\n",
       "      <th>average_rain_fall_mm_per_year</th>\n",
       "      <th>pesticides_tonnes</th>\n",
       "      <th>avg_temp</th>\n",
       "    </tr>\n",
       "  </thead>\n",
       "  <tbody>\n",
       "    <tr>\n",
       "      <th>0</th>\n",
       "      <td>0</td>\n",
       "      <td>Albania</td>\n",
       "      <td>Maize</td>\n",
       "      <td>1990</td>\n",
       "      <td>36613</td>\n",
       "      <td>1485.0</td>\n",
       "      <td>121.0</td>\n",
       "      <td>16.37</td>\n",
       "    </tr>\n",
       "    <tr>\n",
       "      <th>1</th>\n",
       "      <td>1</td>\n",
       "      <td>Albania</td>\n",
       "      <td>Potatoes</td>\n",
       "      <td>1990</td>\n",
       "      <td>66667</td>\n",
       "      <td>1485.0</td>\n",
       "      <td>121.0</td>\n",
       "      <td>16.37</td>\n",
       "    </tr>\n",
       "    <tr>\n",
       "      <th>2</th>\n",
       "      <td>2</td>\n",
       "      <td>Albania</td>\n",
       "      <td>Rice, paddy</td>\n",
       "      <td>1990</td>\n",
       "      <td>23333</td>\n",
       "      <td>1485.0</td>\n",
       "      <td>121.0</td>\n",
       "      <td>16.37</td>\n",
       "    </tr>\n",
       "    <tr>\n",
       "      <th>3</th>\n",
       "      <td>3</td>\n",
       "      <td>Albania</td>\n",
       "      <td>Sorghum</td>\n",
       "      <td>1990</td>\n",
       "      <td>12500</td>\n",
       "      <td>1485.0</td>\n",
       "      <td>121.0</td>\n",
       "      <td>16.37</td>\n",
       "    </tr>\n",
       "    <tr>\n",
       "      <th>4</th>\n",
       "      <td>4</td>\n",
       "      <td>Albania</td>\n",
       "      <td>Soybeans</td>\n",
       "      <td>1990</td>\n",
       "      <td>7000</td>\n",
       "      <td>1485.0</td>\n",
       "      <td>121.0</td>\n",
       "      <td>16.37</td>\n",
       "    </tr>\n",
       "  </tbody>\n",
       "</table>\n",
       "</div>"
      ],
      "text/plain": [
       "   Unnamed: 0     Area         Item  Year  hg/ha_yield  \\\n",
       "0           0  Albania        Maize  1990        36613   \n",
       "1           1  Albania     Potatoes  1990        66667   \n",
       "2           2  Albania  Rice, paddy  1990        23333   \n",
       "3           3  Albania      Sorghum  1990        12500   \n",
       "4           4  Albania     Soybeans  1990         7000   \n",
       "\n",
       "   average_rain_fall_mm_per_year  pesticides_tonnes  avg_temp  \n",
       "0                         1485.0              121.0     16.37  \n",
       "1                         1485.0              121.0     16.37  \n",
       "2                         1485.0              121.0     16.37  \n",
       "3                         1485.0              121.0     16.37  \n",
       "4                         1485.0              121.0     16.37  "
      ]
     },
     "execution_count": 239,
     "metadata": {},
     "output_type": "execute_result"
    }
   ],
   "source": [
    "data.head()"
   ]
  },
  {
   "cell_type": "code",
   "execution_count": 240,
   "metadata": {},
   "outputs": [
    {
     "name": "stdout",
     "output_type": "stream",
     "text": [
      "<class 'pandas.core.frame.DataFrame'>\n",
      "RangeIndex: 28242 entries, 0 to 28241\n",
      "Data columns (total 8 columns):\n",
      "Unnamed: 0                       28242 non-null int64\n",
      "Area                             28242 non-null object\n",
      "Item                             28242 non-null object\n",
      "Year                             28242 non-null int64\n",
      "hg/ha_yield                      28242 non-null int64\n",
      "average_rain_fall_mm_per_year    28242 non-null float64\n",
      "pesticides_tonnes                28242 non-null float64\n",
      "avg_temp                         28242 non-null float64\n",
      "dtypes: float64(3), int64(3), object(2)\n",
      "memory usage: 1.7+ MB\n"
     ]
    }
   ],
   "source": [
    "data.info()"
   ]
  },
  {
   "cell_type": "code",
   "execution_count": 241,
   "metadata": {},
   "outputs": [],
   "source": [
    "data_drop_id = data.drop(['Unnamed: 0','Area'],axis=1)"
   ]
  },
  {
   "cell_type": "code",
   "execution_count": 242,
   "metadata": {},
   "outputs": [
    {
     "data": {
      "text/html": [
       "<div>\n",
       "<style scoped>\n",
       "    .dataframe tbody tr th:only-of-type {\n",
       "        vertical-align: middle;\n",
       "    }\n",
       "\n",
       "    .dataframe tbody tr th {\n",
       "        vertical-align: top;\n",
       "    }\n",
       "\n",
       "    .dataframe thead th {\n",
       "        text-align: right;\n",
       "    }\n",
       "</style>\n",
       "<table border=\"1\" class=\"dataframe\">\n",
       "  <thead>\n",
       "    <tr style=\"text-align: right;\">\n",
       "      <th></th>\n",
       "      <th>Item</th>\n",
       "      <th>Year</th>\n",
       "      <th>hg/ha_yield</th>\n",
       "      <th>average_rain_fall_mm_per_year</th>\n",
       "      <th>pesticides_tonnes</th>\n",
       "      <th>avg_temp</th>\n",
       "    </tr>\n",
       "  </thead>\n",
       "  <tbody>\n",
       "    <tr>\n",
       "      <th>16069</th>\n",
       "      <td>Sweet potatoes</td>\n",
       "      <td>1996</td>\n",
       "      <td>164446</td>\n",
       "      <td>2051.0</td>\n",
       "      <td>1573.58</td>\n",
       "      <td>26.98</td>\n",
       "    </tr>\n",
       "    <tr>\n",
       "      <th>2403</th>\n",
       "      <td>Maize</td>\n",
       "      <td>2001</td>\n",
       "      <td>25917</td>\n",
       "      <td>618.0</td>\n",
       "      <td>8306.31</td>\n",
       "      <td>6.71</td>\n",
       "    </tr>\n",
       "    <tr>\n",
       "      <th>6123</th>\n",
       "      <td>Soybeans</td>\n",
       "      <td>2013</td>\n",
       "      <td>28810</td>\n",
       "      <td>537.0</td>\n",
       "      <td>81659.80</td>\n",
       "      <td>9.85</td>\n",
       "    </tr>\n",
       "    <tr>\n",
       "      <th>3640</th>\n",
       "      <td>Cassava</td>\n",
       "      <td>2001</td>\n",
       "      <td>135418</td>\n",
       "      <td>1761.0</td>\n",
       "      <td>151523.00</td>\n",
       "      <td>24.99</td>\n",
       "    </tr>\n",
       "  </tbody>\n",
       "</table>\n",
       "</div>"
      ],
      "text/plain": [
       "                 Item  Year  hg/ha_yield  average_rain_fall_mm_per_year  \\\n",
       "16069  Sweet potatoes  1996       164446                         2051.0   \n",
       "2403            Maize  2001        25917                          618.0   \n",
       "6123         Soybeans  2013        28810                          537.0   \n",
       "3640          Cassava  2001       135418                         1761.0   \n",
       "\n",
       "       pesticides_tonnes  avg_temp  \n",
       "16069            1573.58     26.98  \n",
       "2403             8306.31      6.71  \n",
       "6123            81659.80      9.85  \n",
       "3640           151523.00     24.99  "
      ]
     },
     "execution_count": 242,
     "metadata": {},
     "output_type": "execute_result"
    }
   ],
   "source": [
    "data_drop_id.sample(4)"
   ]
  },
  {
   "cell_type": "code",
   "execution_count": 243,
   "metadata": {},
   "outputs": [
    {
     "data": {
      "text/plain": [
       "Item                             0\n",
       "Year                             0\n",
       "hg/ha_yield                      0\n",
       "average_rain_fall_mm_per_year    0\n",
       "pesticides_tonnes                0\n",
       "avg_temp                         0\n",
       "dtype: int64"
      ]
     },
     "execution_count": 243,
     "metadata": {},
     "output_type": "execute_result"
    }
   ],
   "source": [
    "data_drop_id.isnull().sum()"
   ]
  },
  {
   "cell_type": "code",
   "execution_count": 244,
   "metadata": {},
   "outputs": [
    {
     "data": {
      "text/html": [
       "<div>\n",
       "<style scoped>\n",
       "    .dataframe tbody tr th:only-of-type {\n",
       "        vertical-align: middle;\n",
       "    }\n",
       "\n",
       "    .dataframe tbody tr th {\n",
       "        vertical-align: top;\n",
       "    }\n",
       "\n",
       "    .dataframe thead th {\n",
       "        text-align: right;\n",
       "    }\n",
       "</style>\n",
       "<table border=\"1\" class=\"dataframe\">\n",
       "  <thead>\n",
       "    <tr style=\"text-align: right;\">\n",
       "      <th></th>\n",
       "      <th>Item</th>\n",
       "      <th>Year</th>\n",
       "      <th>hg/ha_yield</th>\n",
       "      <th>average_rain_fall_mm_per_year</th>\n",
       "      <th>pesticides_tonnes</th>\n",
       "      <th>avg_temp</th>\n",
       "    </tr>\n",
       "  </thead>\n",
       "  <tbody>\n",
       "    <tr>\n",
       "      <th>count</th>\n",
       "      <td>28242</td>\n",
       "      <td>28242.000000</td>\n",
       "      <td>28242.000000</td>\n",
       "      <td>28242.00000</td>\n",
       "      <td>28242.000000</td>\n",
       "      <td>28242.000000</td>\n",
       "    </tr>\n",
       "    <tr>\n",
       "      <th>unique</th>\n",
       "      <td>10</td>\n",
       "      <td>NaN</td>\n",
       "      <td>NaN</td>\n",
       "      <td>NaN</td>\n",
       "      <td>NaN</td>\n",
       "      <td>NaN</td>\n",
       "    </tr>\n",
       "    <tr>\n",
       "      <th>top</th>\n",
       "      <td>Potatoes</td>\n",
       "      <td>NaN</td>\n",
       "      <td>NaN</td>\n",
       "      <td>NaN</td>\n",
       "      <td>NaN</td>\n",
       "      <td>NaN</td>\n",
       "    </tr>\n",
       "    <tr>\n",
       "      <th>freq</th>\n",
       "      <td>4276</td>\n",
       "      <td>NaN</td>\n",
       "      <td>NaN</td>\n",
       "      <td>NaN</td>\n",
       "      <td>NaN</td>\n",
       "      <td>NaN</td>\n",
       "    </tr>\n",
       "    <tr>\n",
       "      <th>mean</th>\n",
       "      <td>NaN</td>\n",
       "      <td>2001.544296</td>\n",
       "      <td>77053.332094</td>\n",
       "      <td>1149.05598</td>\n",
       "      <td>37076.909344</td>\n",
       "      <td>20.542627</td>\n",
       "    </tr>\n",
       "    <tr>\n",
       "      <th>std</th>\n",
       "      <td>NaN</td>\n",
       "      <td>7.051905</td>\n",
       "      <td>84956.612897</td>\n",
       "      <td>709.81215</td>\n",
       "      <td>59958.784665</td>\n",
       "      <td>6.312051</td>\n",
       "    </tr>\n",
       "    <tr>\n",
       "      <th>min</th>\n",
       "      <td>NaN</td>\n",
       "      <td>1990.000000</td>\n",
       "      <td>50.000000</td>\n",
       "      <td>51.00000</td>\n",
       "      <td>0.040000</td>\n",
       "      <td>1.300000</td>\n",
       "    </tr>\n",
       "    <tr>\n",
       "      <th>25%</th>\n",
       "      <td>NaN</td>\n",
       "      <td>1995.000000</td>\n",
       "      <td>19919.250000</td>\n",
       "      <td>593.00000</td>\n",
       "      <td>1702.000000</td>\n",
       "      <td>16.702500</td>\n",
       "    </tr>\n",
       "    <tr>\n",
       "      <th>50%</th>\n",
       "      <td>NaN</td>\n",
       "      <td>2001.000000</td>\n",
       "      <td>38295.000000</td>\n",
       "      <td>1083.00000</td>\n",
       "      <td>17529.440000</td>\n",
       "      <td>21.510000</td>\n",
       "    </tr>\n",
       "    <tr>\n",
       "      <th>75%</th>\n",
       "      <td>NaN</td>\n",
       "      <td>2008.000000</td>\n",
       "      <td>104676.750000</td>\n",
       "      <td>1668.00000</td>\n",
       "      <td>48687.880000</td>\n",
       "      <td>26.000000</td>\n",
       "    </tr>\n",
       "    <tr>\n",
       "      <th>max</th>\n",
       "      <td>NaN</td>\n",
       "      <td>2013.000000</td>\n",
       "      <td>501412.000000</td>\n",
       "      <td>3240.00000</td>\n",
       "      <td>367778.000000</td>\n",
       "      <td>30.650000</td>\n",
       "    </tr>\n",
       "  </tbody>\n",
       "</table>\n",
       "</div>"
      ],
      "text/plain": [
       "            Item          Year    hg/ha_yield  average_rain_fall_mm_per_year  \\\n",
       "count      28242  28242.000000   28242.000000                    28242.00000   \n",
       "unique        10           NaN            NaN                            NaN   \n",
       "top     Potatoes           NaN            NaN                            NaN   \n",
       "freq        4276           NaN            NaN                            NaN   \n",
       "mean         NaN   2001.544296   77053.332094                     1149.05598   \n",
       "std          NaN      7.051905   84956.612897                      709.81215   \n",
       "min          NaN   1990.000000      50.000000                       51.00000   \n",
       "25%          NaN   1995.000000   19919.250000                      593.00000   \n",
       "50%          NaN   2001.000000   38295.000000                     1083.00000   \n",
       "75%          NaN   2008.000000  104676.750000                     1668.00000   \n",
       "max          NaN   2013.000000  501412.000000                     3240.00000   \n",
       "\n",
       "        pesticides_tonnes      avg_temp  \n",
       "count        28242.000000  28242.000000  \n",
       "unique                NaN           NaN  \n",
       "top                   NaN           NaN  \n",
       "freq                  NaN           NaN  \n",
       "mean         37076.909344     20.542627  \n",
       "std          59958.784665      6.312051  \n",
       "min              0.040000      1.300000  \n",
       "25%           1702.000000     16.702500  \n",
       "50%          17529.440000     21.510000  \n",
       "75%          48687.880000     26.000000  \n",
       "max         367778.000000     30.650000  "
      ]
     },
     "execution_count": 244,
     "metadata": {},
     "output_type": "execute_result"
    }
   ],
   "source": [
    "data_drop_id.describe(include='all')"
   ]
  },
  {
   "cell_type": "code",
   "execution_count": 245,
   "metadata": {},
   "outputs": [
    {
     "name": "stderr",
     "output_type": "stream",
     "text": [
      "C:\\anaconda\\lib\\site-packages\\matplotlib\\axes\\_axes.py:6462: UserWarning: The 'normed' kwarg is deprecated, and has been replaced by the 'density' kwarg.\n",
      "  warnings.warn(\"The 'normed' kwarg is deprecated, and has been \"\n"
     ]
    },
    {
     "data": {
      "text/plain": [
       "<matplotlib.axes._subplots.AxesSubplot at 0x2efce2f27b8>"
      ]
     },
     "execution_count": 245,
     "metadata": {},
     "output_type": "execute_result"
    },
    {
     "data": {
      "image/png": "[encoded data removed]",
      "text/plain": [
       "<Figure size 432x288 with 1 Axes>"
      ]
     },
     "metadata": {},
     "output_type": "display_data"
    }
   ],
   "source": [
    "sns.distplot(data_drop_id['hg/ha_yield'])"
   ]
  },
  {
   "cell_type": "code",
   "execution_count": 246,
   "metadata": {},
   "outputs": [
    {
     "data": {
      "text/html": [
       "<div>\n",
       "<style scoped>\n",
       "    .dataframe tbody tr th:only-of-type {\n",
       "        vertical-align: middle;\n",
       "    }\n",
       "\n",
       "    .dataframe tbody tr th {\n",
       "        vertical-align: top;\n",
       "    }\n",
       "\n",
       "    .dataframe thead th {\n",
       "        text-align: right;\n",
       "    }\n",
       "</style>\n",
       "<table border=\"1\" class=\"dataframe\">\n",
       "  <thead>\n",
       "    <tr style=\"text-align: right;\">\n",
       "      <th></th>\n",
       "      <th>Item</th>\n",
       "      <th>Year</th>\n",
       "      <th>hg/ha_yield</th>\n",
       "      <th>average_rain_fall_mm_per_year</th>\n",
       "      <th>pesticides_tonnes</th>\n",
       "      <th>avg_temp</th>\n",
       "    </tr>\n",
       "  </thead>\n",
       "  <tbody>\n",
       "    <tr>\n",
       "      <th>count</th>\n",
       "      <td>27955</td>\n",
       "      <td>27955.000000</td>\n",
       "      <td>27955.000000</td>\n",
       "      <td>27955.000000</td>\n",
       "      <td>27955.000000</td>\n",
       "      <td>27955.000000</td>\n",
       "    </tr>\n",
       "    <tr>\n",
       "      <th>unique</th>\n",
       "      <td>10</td>\n",
       "      <td>NaN</td>\n",
       "      <td>NaN</td>\n",
       "      <td>NaN</td>\n",
       "      <td>NaN</td>\n",
       "      <td>NaN</td>\n",
       "    </tr>\n",
       "    <tr>\n",
       "      <th>top</th>\n",
       "      <td>Maize</td>\n",
       "      <td>NaN</td>\n",
       "      <td>NaN</td>\n",
       "      <td>NaN</td>\n",
       "      <td>NaN</td>\n",
       "      <td>NaN</td>\n",
       "    </tr>\n",
       "    <tr>\n",
       "      <th>freq</th>\n",
       "      <td>4121</td>\n",
       "      <td>NaN</td>\n",
       "      <td>NaN</td>\n",
       "      <td>NaN</td>\n",
       "      <td>NaN</td>\n",
       "      <td>NaN</td>\n",
       "    </tr>\n",
       "    <tr>\n",
       "      <th>mean</th>\n",
       "      <td>NaN</td>\n",
       "      <td>2001.517510</td>\n",
       "      <td>73546.762440</td>\n",
       "      <td>1149.785262</td>\n",
       "      <td>37178.069950</td>\n",
       "      <td>20.633246</td>\n",
       "    </tr>\n",
       "    <tr>\n",
       "      <th>std</th>\n",
       "      <td>NaN</td>\n",
       "      <td>7.050113</td>\n",
       "      <td>77939.912902</td>\n",
       "      <td>712.478390</td>\n",
       "      <td>60223.017908</td>\n",
       "      <td>6.258759</td>\n",
       "    </tr>\n",
       "    <tr>\n",
       "      <th>min</th>\n",
       "      <td>NaN</td>\n",
       "      <td>1990.000000</td>\n",
       "      <td>50.000000</td>\n",
       "      <td>51.000000</td>\n",
       "      <td>0.040000</td>\n",
       "      <td>1.300000</td>\n",
       "    </tr>\n",
       "    <tr>\n",
       "      <th>25%</th>\n",
       "      <td>NaN</td>\n",
       "      <td>1995.000000</td>\n",
       "      <td>19753.500000</td>\n",
       "      <td>591.000000</td>\n",
       "      <td>1670.000000</td>\n",
       "      <td>16.840000</td>\n",
       "    </tr>\n",
       "    <tr>\n",
       "      <th>50%</th>\n",
       "      <td>NaN</td>\n",
       "      <td>2001.000000</td>\n",
       "      <td>37607.000000</td>\n",
       "      <td>1083.000000</td>\n",
       "      <td>17278.650000</td>\n",
       "      <td>21.560000</td>\n",
       "    </tr>\n",
       "    <tr>\n",
       "      <th>75%</th>\n",
       "      <td>NaN</td>\n",
       "      <td>2008.000000</td>\n",
       "      <td>101288.000000</td>\n",
       "      <td>1668.000000</td>\n",
       "      <td>48727.730000</td>\n",
       "      <td>26.030000</td>\n",
       "    </tr>\n",
       "    <tr>\n",
       "      <th>max</th>\n",
       "      <td>NaN</td>\n",
       "      <td>2013.000000</td>\n",
       "      <td>381394.000000</td>\n",
       "      <td>3240.000000</td>\n",
       "      <td>367778.000000</td>\n",
       "      <td>30.650000</td>\n",
       "    </tr>\n",
       "  </tbody>\n",
       "</table>\n",
       "</div>"
      ],
      "text/plain": [
       "         Item          Year    hg/ha_yield  average_rain_fall_mm_per_year  \\\n",
       "count   27955  27955.000000   27955.000000                   27955.000000   \n",
       "unique     10           NaN            NaN                            NaN   \n",
       "top     Maize           NaN            NaN                            NaN   \n",
       "freq     4121           NaN            NaN                            NaN   \n",
       "mean      NaN   2001.517510   73546.762440                    1149.785262   \n",
       "std       NaN      7.050113   77939.912902                     712.478390   \n",
       "min       NaN   1990.000000      50.000000                      51.000000   \n",
       "25%       NaN   1995.000000   19753.500000                     591.000000   \n",
       "50%       NaN   2001.000000   37607.000000                    1083.000000   \n",
       "75%       NaN   2008.000000  101288.000000                    1668.000000   \n",
       "max       NaN   2013.000000  381394.000000                    3240.000000   \n",
       "\n",
       "        pesticides_tonnes      avg_temp  \n",
       "count        27955.000000  27955.000000  \n",
       "unique                NaN           NaN  \n",
       "top                   NaN           NaN  \n",
       "freq                  NaN           NaN  \n",
       "mean         37178.069950     20.633246  \n",
       "std          60223.017908      6.258759  \n",
       "min              0.040000      1.300000  \n",
       "25%           1670.000000     16.840000  \n",
       "50%          17278.650000     21.560000  \n",
       "75%          48727.730000     26.030000  \n",
       "max         367778.000000     30.650000  "
      ]
     },
     "execution_count": 246,
     "metadata": {},
     "output_type": "execute_result"
    }
   ],
   "source": [
    "# Let's declare a variable that will be equal to the 99th percentile of the 'hg/ha_yield' variable\n",
    "q = data_drop_id['hg/ha_yield'].quantile(0.99)\n",
    "# Then we can create a new df, with the condition that all prices must be below the 99 percentile of 'hg/ha_yield'\n",
    "data_removed_outliers = data_drop_id[data_drop_id['hg/ha_yield']<q]\n",
    "# In this way we have essentially removed the top 1% of the data about 'hg/ha_yield'\n",
    "data_removed_outliers .describe(include='all')"
   ]
  },
  {
   "cell_type": "code",
   "execution_count": 247,
   "metadata": {},
   "outputs": [
    {
     "name": "stderr",
     "output_type": "stream",
     "text": [
      "C:\\anaconda\\lib\\site-packages\\matplotlib\\axes\\_axes.py:6462: UserWarning: The 'normed' kwarg is deprecated, and has been replaced by the 'density' kwarg.\n",
      "  warnings.warn(\"The 'normed' kwarg is deprecated, and has been \"\n"
     ]
    },
    {
     "data": {
      "text/plain": [
       "<matplotlib.axes._subplots.AxesSubplot at 0x2efbf03ba90>"
      ]
     },
     "execution_count": 247,
     "metadata": {},
     "output_type": "execute_result"
    },
    {
     "data": {
      "image/png": "[encoded data removed]",
      "text/plain": [
       "<Figure size 432x288 with 1 Axes>"
      ]
     },
     "metadata": {},
     "output_type": "display_data"
    }
   ],
   "source": [
    "sns.distplot(data_removed_outliers['hg/ha_yield'])"
   ]
  },
  {
   "cell_type": "code",
   "execution_count": 248,
   "metadata": {},
   "outputs": [
    {
     "name": "stderr",
     "output_type": "stream",
     "text": [
      "C:\\anaconda\\lib\\site-packages\\matplotlib\\axes\\_axes.py:6462: UserWarning: The 'normed' kwarg is deprecated, and has been replaced by the 'density' kwarg.\n",
      "  warnings.warn(\"The 'normed' kwarg is deprecated, and has been \"\n"
     ]
    },
    {
     "data": {
      "text/plain": [
       "<matplotlib.axes._subplots.AxesSubplot at 0x2efce468940>"
      ]
     },
     "execution_count": 248,
     "metadata": {},
     "output_type": "execute_result"
    },
    {
     "data": {
      "image/png": "[encoded data removed]",
      "text/plain": [
       "<Figure size 432x288 with 1 Axes>"
      ]
     },
     "metadata": {},
     "output_type": "display_data"
    }
   ],
   "source": [
    "sns.distplot(data_removed_outliers['pesticides_tonnes'])"
   ]
  },
  {
   "cell_type": "code",
   "execution_count": 249,
   "metadata": {},
   "outputs": [
    {
     "data": {
      "text/html": [
       "<div>\n",
       "<style scoped>\n",
       "    .dataframe tbody tr th:only-of-type {\n",
       "        vertical-align: middle;\n",
       "    }\n",
       "\n",
       "    .dataframe tbody tr th {\n",
       "        vertical-align: top;\n",
       "    }\n",
       "\n",
       "    .dataframe thead th {\n",
       "        text-align: right;\n",
       "    }\n",
       "</style>\n",
       "<table border=\"1\" class=\"dataframe\">\n",
       "  <thead>\n",
       "    <tr style=\"text-align: right;\">\n",
       "      <th></th>\n",
       "      <th>Item</th>\n",
       "      <th>Year</th>\n",
       "      <th>hg/ha_yield</th>\n",
       "      <th>average_rain_fall_mm_per_year</th>\n",
       "      <th>pesticides_tonnes</th>\n",
       "      <th>avg_temp</th>\n",
       "    </tr>\n",
       "  </thead>\n",
       "  <tbody>\n",
       "    <tr>\n",
       "      <th>count</th>\n",
       "      <td>27658</td>\n",
       "      <td>27658.000000</td>\n",
       "      <td>27658.000000</td>\n",
       "      <td>27658.000000</td>\n",
       "      <td>27658.000000</td>\n",
       "      <td>27658.000000</td>\n",
       "    </tr>\n",
       "    <tr>\n",
       "      <th>unique</th>\n",
       "      <td>10</td>\n",
       "      <td>NaN</td>\n",
       "      <td>NaN</td>\n",
       "      <td>NaN</td>\n",
       "      <td>NaN</td>\n",
       "      <td>NaN</td>\n",
       "    </tr>\n",
       "    <tr>\n",
       "      <th>top</th>\n",
       "      <td>Maize</td>\n",
       "      <td>NaN</td>\n",
       "      <td>NaN</td>\n",
       "      <td>NaN</td>\n",
       "      <td>NaN</td>\n",
       "      <td>NaN</td>\n",
       "    </tr>\n",
       "    <tr>\n",
       "      <th>freq</th>\n",
       "      <td>4088</td>\n",
       "      <td>NaN</td>\n",
       "      <td>NaN</td>\n",
       "      <td>NaN</td>\n",
       "      <td>NaN</td>\n",
       "      <td>NaN</td>\n",
       "    </tr>\n",
       "    <tr>\n",
       "      <th>mean</th>\n",
       "      <td>NaN</td>\n",
       "      <td>2001.404946</td>\n",
       "      <td>73365.255514</td>\n",
       "      <td>1143.221853</td>\n",
       "      <td>33785.292951</td>\n",
       "      <td>20.611303</td>\n",
       "    </tr>\n",
       "    <tr>\n",
       "      <th>std</th>\n",
       "      <td>NaN</td>\n",
       "      <td>7.002715</td>\n",
       "      <td>77938.948914</td>\n",
       "      <td>713.457646</td>\n",
       "      <td>50804.540922</td>\n",
       "      <td>6.277713</td>\n",
       "    </tr>\n",
       "    <tr>\n",
       "      <th>min</th>\n",
       "      <td>NaN</td>\n",
       "      <td>1990.000000</td>\n",
       "      <td>50.000000</td>\n",
       "      <td>51.000000</td>\n",
       "      <td>0.040000</td>\n",
       "      <td>1.300000</td>\n",
       "    </tr>\n",
       "    <tr>\n",
       "      <th>25%</th>\n",
       "      <td>NaN</td>\n",
       "      <td>1995.000000</td>\n",
       "      <td>19576.750000</td>\n",
       "      <td>591.000000</td>\n",
       "      <td>1670.000000</td>\n",
       "      <td>16.770000</td>\n",
       "    </tr>\n",
       "    <tr>\n",
       "      <th>50%</th>\n",
       "      <td>NaN</td>\n",
       "      <td>2001.000000</td>\n",
       "      <td>37350.000000</td>\n",
       "      <td>1083.000000</td>\n",
       "      <td>16817.000000</td>\n",
       "      <td>21.550000</td>\n",
       "    </tr>\n",
       "    <tr>\n",
       "      <th>75%</th>\n",
       "      <td>NaN</td>\n",
       "      <td>2008.000000</td>\n",
       "      <td>101190.000000</td>\n",
       "      <td>1668.000000</td>\n",
       "      <td>46195.000000</td>\n",
       "      <td>26.020000</td>\n",
       "    </tr>\n",
       "    <tr>\n",
       "      <th>max</th>\n",
       "      <td>NaN</td>\n",
       "      <td>2013.000000</td>\n",
       "      <td>381394.000000</td>\n",
       "      <td>3240.000000</td>\n",
       "      <td>342580.000000</td>\n",
       "      <td>30.650000</td>\n",
       "    </tr>\n",
       "  </tbody>\n",
       "</table>\n",
       "</div>"
      ],
      "text/plain": [
       "         Item          Year    hg/ha_yield  average_rain_fall_mm_per_year  \\\n",
       "count   27658  27658.000000   27658.000000                   27658.000000   \n",
       "unique     10           NaN            NaN                            NaN   \n",
       "top     Maize           NaN            NaN                            NaN   \n",
       "freq     4088           NaN            NaN                            NaN   \n",
       "mean      NaN   2001.404946   73365.255514                    1143.221853   \n",
       "std       NaN      7.002715   77938.948914                     713.457646   \n",
       "min       NaN   1990.000000      50.000000                      51.000000   \n",
       "25%       NaN   1995.000000   19576.750000                     591.000000   \n",
       "50%       NaN   2001.000000   37350.000000                    1083.000000   \n",
       "75%       NaN   2008.000000  101190.000000                    1668.000000   \n",
       "max       NaN   2013.000000  381394.000000                    3240.000000   \n",
       "\n",
       "        pesticides_tonnes      avg_temp  \n",
       "count        27658.000000  27658.000000  \n",
       "unique                NaN           NaN  \n",
       "top                   NaN           NaN  \n",
       "freq                  NaN           NaN  \n",
       "mean         33785.292951     20.611303  \n",
       "std          50804.540922      6.277713  \n",
       "min              0.040000      1.300000  \n",
       "25%           1670.000000     16.770000  \n",
       "50%          16817.000000     21.550000  \n",
       "75%          46195.000000     26.020000  \n",
       "max         342580.000000     30.650000  "
      ]
     },
     "execution_count": 249,
     "metadata": {},
     "output_type": "execute_result"
    }
   ],
   "source": [
    "# Let's declare a variable that will be equal to the 99th percentile of the 'hg/ha_yield' variable\n",
    "q = data_removed_outliers['pesticides_tonnes'].quantile(0.99)\n",
    "# Then we can create a new df, with the condition that all prices must be below the 99 percentile of 'hg/ha_yield'\n",
    "data_removed_outliers_2 = data_removed_outliers[data_removed_outliers['pesticides_tonnes']<q]\n",
    "# In this way we have essentially removed the top 1% of the data about 'hg/ha_yield'\n",
    "data_removed_outliers_2 .describe(include='all')"
   ]
  },
  {
   "cell_type": "code",
   "execution_count": 250,
   "metadata": {},
   "outputs": [
    {
     "name": "stderr",
     "output_type": "stream",
     "text": [
      "C:\\anaconda\\lib\\site-packages\\matplotlib\\axes\\_axes.py:6462: UserWarning: The 'normed' kwarg is deprecated, and has been replaced by the 'density' kwarg.\n",
      "  warnings.warn(\"The 'normed' kwarg is deprecated, and has been \"\n"
     ]
    },
    {
     "data": {
      "text/plain": [
       "<matplotlib.axes._subplots.AxesSubplot at 0x2efce585940>"
      ]
     },
     "execution_count": 250,
     "metadata": {},
     "output_type": "execute_result"
    },
    {
     "data": {
      "image/png": "[encoded data removed]",
      "text/plain": [
       "<Figure size 432x288 with 1 Axes>"
      ]
     },
     "metadata": {},
     "output_type": "display_data"
    }
   ],
   "source": [
    "sns.distplot(data_removed_outliers_2['pesticides_tonnes'])"
   ]
  },
  {
   "cell_type": "code",
   "execution_count": 251,
   "metadata": {},
   "outputs": [
    {
     "data": {
      "text/html": [
       "<div>\n",
       "<style scoped>\n",
       "    .dataframe tbody tr th:only-of-type {\n",
       "        vertical-align: middle;\n",
       "    }\n",
       "\n",
       "    .dataframe tbody tr th {\n",
       "        vertical-align: top;\n",
       "    }\n",
       "\n",
       "    .dataframe thead th {\n",
       "        text-align: right;\n",
       "    }\n",
       "</style>\n",
       "<table border=\"1\" class=\"dataframe\">\n",
       "  <thead>\n",
       "    <tr style=\"text-align: right;\">\n",
       "      <th></th>\n",
       "      <th>Item</th>\n",
       "      <th>Year</th>\n",
       "      <th>hg/ha_yield</th>\n",
       "      <th>average_rain_fall_mm_per_year</th>\n",
       "      <th>pesticides_tonnes</th>\n",
       "      <th>avg_temp</th>\n",
       "    </tr>\n",
       "  </thead>\n",
       "  <tbody>\n",
       "    <tr>\n",
       "      <th>count</th>\n",
       "      <td>27658</td>\n",
       "      <td>27658.000000</td>\n",
       "      <td>27658.000000</td>\n",
       "      <td>27658.000000</td>\n",
       "      <td>27658.000000</td>\n",
       "      <td>27658.000000</td>\n",
       "    </tr>\n",
       "    <tr>\n",
       "      <th>unique</th>\n",
       "      <td>10</td>\n",
       "      <td>NaN</td>\n",
       "      <td>NaN</td>\n",
       "      <td>NaN</td>\n",
       "      <td>NaN</td>\n",
       "      <td>NaN</td>\n",
       "    </tr>\n",
       "    <tr>\n",
       "      <th>top</th>\n",
       "      <td>Maize</td>\n",
       "      <td>NaN</td>\n",
       "      <td>NaN</td>\n",
       "      <td>NaN</td>\n",
       "      <td>NaN</td>\n",
       "      <td>NaN</td>\n",
       "    </tr>\n",
       "    <tr>\n",
       "      <th>freq</th>\n",
       "      <td>4088</td>\n",
       "      <td>NaN</td>\n",
       "      <td>NaN</td>\n",
       "      <td>NaN</td>\n",
       "      <td>NaN</td>\n",
       "      <td>NaN</td>\n",
       "    </tr>\n",
       "    <tr>\n",
       "      <th>mean</th>\n",
       "      <td>NaN</td>\n",
       "      <td>2001.404946</td>\n",
       "      <td>73365.255514</td>\n",
       "      <td>1143.221853</td>\n",
       "      <td>33785.292951</td>\n",
       "      <td>20.611303</td>\n",
       "    </tr>\n",
       "    <tr>\n",
       "      <th>std</th>\n",
       "      <td>NaN</td>\n",
       "      <td>7.002715</td>\n",
       "      <td>77938.948914</td>\n",
       "      <td>713.457646</td>\n",
       "      <td>50804.540922</td>\n",
       "      <td>6.277713</td>\n",
       "    </tr>\n",
       "    <tr>\n",
       "      <th>min</th>\n",
       "      <td>NaN</td>\n",
       "      <td>1990.000000</td>\n",
       "      <td>50.000000</td>\n",
       "      <td>51.000000</td>\n",
       "      <td>0.040000</td>\n",
       "      <td>1.300000</td>\n",
       "    </tr>\n",
       "    <tr>\n",
       "      <th>25%</th>\n",
       "      <td>NaN</td>\n",
       "      <td>1995.000000</td>\n",
       "      <td>19576.750000</td>\n",
       "      <td>591.000000</td>\n",
       "      <td>1670.000000</td>\n",
       "      <td>16.770000</td>\n",
       "    </tr>\n",
       "    <tr>\n",
       "      <th>50%</th>\n",
       "      <td>NaN</td>\n",
       "      <td>2001.000000</td>\n",
       "      <td>37350.000000</td>\n",
       "      <td>1083.000000</td>\n",
       "      <td>16817.000000</td>\n",
       "      <td>21.550000</td>\n",
       "    </tr>\n",
       "    <tr>\n",
       "      <th>75%</th>\n",
       "      <td>NaN</td>\n",
       "      <td>2008.000000</td>\n",
       "      <td>101190.000000</td>\n",
       "      <td>1668.000000</td>\n",
       "      <td>46195.000000</td>\n",
       "      <td>26.020000</td>\n",
       "    </tr>\n",
       "    <tr>\n",
       "      <th>max</th>\n",
       "      <td>NaN</td>\n",
       "      <td>2013.000000</td>\n",
       "      <td>381394.000000</td>\n",
       "      <td>3240.000000</td>\n",
       "      <td>342580.000000</td>\n",
       "      <td>30.650000</td>\n",
       "    </tr>\n",
       "  </tbody>\n",
       "</table>\n",
       "</div>"
      ],
      "text/plain": [
       "         Item          Year    hg/ha_yield  average_rain_fall_mm_per_year  \\\n",
       "count   27658  27658.000000   27658.000000                   27658.000000   \n",
       "unique     10           NaN            NaN                            NaN   \n",
       "top     Maize           NaN            NaN                            NaN   \n",
       "freq     4088           NaN            NaN                            NaN   \n",
       "mean      NaN   2001.404946   73365.255514                    1143.221853   \n",
       "std       NaN      7.002715   77938.948914                     713.457646   \n",
       "min       NaN   1990.000000      50.000000                      51.000000   \n",
       "25%       NaN   1995.000000   19576.750000                     591.000000   \n",
       "50%       NaN   2001.000000   37350.000000                    1083.000000   \n",
       "75%       NaN   2008.000000  101190.000000                    1668.000000   \n",
       "max       NaN   2013.000000  381394.000000                    3240.000000   \n",
       "\n",
       "        pesticides_tonnes      avg_temp  \n",
       "count        27658.000000  27658.000000  \n",
       "unique                NaN           NaN  \n",
       "top                   NaN           NaN  \n",
       "freq                  NaN           NaN  \n",
       "mean         33785.292951     20.611303  \n",
       "std          50804.540922      6.277713  \n",
       "min              0.040000      1.300000  \n",
       "25%           1670.000000     16.770000  \n",
       "50%          16817.000000     21.550000  \n",
       "75%          46195.000000     26.020000  \n",
       "max         342580.000000     30.650000  "
      ]
     },
     "execution_count": 251,
     "metadata": {},
     "output_type": "execute_result"
    }
   ],
   "source": [
    "# When we remove observations, the original indexes are preserved\n",
    "# If we remove observations with indexes 2 and 3, the indexes will go as: 0,1,4,5,6\n",
    "# That's very problematic as we tend to forget about it (later you will see an example of such a problem)\n",
    "\n",
    "# Finally, once we reset the index, a new column will be created containing the old index (just in case)\n",
    "# We won't be needing it, thus 'drop=True' to completely forget about it\n",
    "data_cleaned = data_removed_outliers_2.reset_index(drop=True)\n",
    "data_cleaned.describe(include='all')"
   ]
  },
  {
   "cell_type": "code",
   "execution_count": 252,
   "metadata": {},
   "outputs": [],
   "source": [
    "from statsmodels.stats.outliers_influence import variance_inflation_factor\n",
    "\n",
    "# To make this as easy as possible to use, we declare a variable where we put\n",
    "# all features where we want to check for multicollinearity\n",
    "# since our categorical data is not yet preprocessed, we will only take the numerical ones\n",
    "variables = data_cleaned[['hg/ha_yield','Year','pesticides_tonnes','average_rain_fall_mm_per_year','avg_temp']]\n",
    "\n",
    "# we create a new data frame which will include all the VIFs\n",
    "# note that each variable has its own variance inflation factor as this measure is variable specific (not model specific)\n",
    "vif = pd.DataFrame()\n",
    "\n",
    "# here we make use of the variance_inflation_factor, which will basically output the respective VIFs \n",
    "vif[\"VIF\"] = [variance_inflation_factor(variables.values, i) for i in range(variables.shape[1])]\n",
    "# Finally, I like to include names so it is easier to explore the result\n",
    "vif[\"Features\"] = variables.columns"
   ]
  },
  {
   "cell_type": "code",
   "execution_count": 253,
   "metadata": {},
   "outputs": [
    {
     "data": {
      "text/html": [
       "<div>\n",
       "<style scoped>\n",
       "    .dataframe tbody tr th:only-of-type {\n",
       "        vertical-align: middle;\n",
       "    }\n",
       "\n",
       "    .dataframe tbody tr th {\n",
       "        vertical-align: top;\n",
       "    }\n",
       "\n",
       "    .dataframe thead th {\n",
       "        text-align: right;\n",
       "    }\n",
       "</style>\n",
       "<table border=\"1\" class=\"dataframe\">\n",
       "  <thead>\n",
       "    <tr style=\"text-align: right;\">\n",
       "      <th></th>\n",
       "      <th>VIF</th>\n",
       "      <th>Features</th>\n",
       "    </tr>\n",
       "  </thead>\n",
       "  <tbody>\n",
       "    <tr>\n",
       "      <th>0</th>\n",
       "      <td>1.907311</td>\n",
       "      <td>hg/ha_yield</td>\n",
       "    </tr>\n",
       "    <tr>\n",
       "      <th>1</th>\n",
       "      <td>13.650550</td>\n",
       "      <td>Year</td>\n",
       "    </tr>\n",
       "    <tr>\n",
       "      <th>2</th>\n",
       "      <td>1.491602</td>\n",
       "      <td>pesticides_tonnes</td>\n",
       "    </tr>\n",
       "    <tr>\n",
       "      <th>3</th>\n",
       "      <td>4.069444</td>\n",
       "      <td>average_rain_fall_mm_per_year</td>\n",
       "    </tr>\n",
       "    <tr>\n",
       "      <th>4</th>\n",
       "      <td>13.157713</td>\n",
       "      <td>avg_temp</td>\n",
       "    </tr>\n",
       "  </tbody>\n",
       "</table>\n",
       "</div>"
      ],
      "text/plain": [
       "         VIF                       Features\n",
       "0   1.907311                    hg/ha_yield\n",
       "1  13.650550                           Year\n",
       "2   1.491602              pesticides_tonnes\n",
       "3   4.069444  average_rain_fall_mm_per_year\n",
       "4  13.157713                       avg_temp"
      ]
     },
     "execution_count": 253,
     "metadata": {},
     "output_type": "execute_result"
    }
   ],
   "source": [
    "vif"
   ]
  },
  {
   "cell_type": "code",
   "execution_count": 254,
   "metadata": {},
   "outputs": [
    {
     "data": {
      "text/html": [
       "<div>\n",
       "<style scoped>\n",
       "    .dataframe tbody tr th:only-of-type {\n",
       "        vertical-align: middle;\n",
       "    }\n",
       "\n",
       "    .dataframe tbody tr th {\n",
       "        vertical-align: top;\n",
       "    }\n",
       "\n",
       "    .dataframe thead th {\n",
       "        text-align: right;\n",
       "    }\n",
       "</style>\n",
       "<table border=\"1\" class=\"dataframe\">\n",
       "  <thead>\n",
       "    <tr style=\"text-align: right;\">\n",
       "      <th></th>\n",
       "      <th>Item</th>\n",
       "      <th>hg/ha_yield</th>\n",
       "      <th>average_rain_fall_mm_per_year</th>\n",
       "      <th>pesticides_tonnes</th>\n",
       "      <th>avg_temp</th>\n",
       "    </tr>\n",
       "  </thead>\n",
       "  <tbody>\n",
       "    <tr>\n",
       "      <th>0</th>\n",
       "      <td>Maize</td>\n",
       "      <td>36613</td>\n",
       "      <td>1485.0</td>\n",
       "      <td>121.0</td>\n",
       "      <td>16.37</td>\n",
       "    </tr>\n",
       "    <tr>\n",
       "      <th>1</th>\n",
       "      <td>Potatoes</td>\n",
       "      <td>66667</td>\n",
       "      <td>1485.0</td>\n",
       "      <td>121.0</td>\n",
       "      <td>16.37</td>\n",
       "    </tr>\n",
       "  </tbody>\n",
       "</table>\n",
       "</div>"
      ],
      "text/plain": [
       "       Item  hg/ha_yield  average_rain_fall_mm_per_year  pesticides_tonnes  \\\n",
       "0     Maize        36613                         1485.0              121.0   \n",
       "1  Potatoes        66667                         1485.0              121.0   \n",
       "\n",
       "   avg_temp  \n",
       "0     16.37  \n",
       "1     16.37  "
      ]
     },
     "execution_count": 254,
     "metadata": {},
     "output_type": "execute_result"
    }
   ],
   "source": [
    "data_no_multicollinearity = data_cleaned.drop([\"Year\"],axis=1)\n",
    "data_preprocessed = data_no_multicollinearity.reset_index(drop=True)\n",
    "data_preprocessed.head(2)"
   ]
  },
  {
   "cell_type": "code",
   "execution_count": 255,
   "metadata": {},
   "outputs": [],
   "source": [
    "data_preprocessed.to_csv('yield_preprocessed.csv', index=False)"
   ]
  },
  {
   "cell_type": "code",
   "execution_count": 256,
   "metadata": {},
   "outputs": [],
   "source": [
    "data_preprocessed = pd.read_csv(\"yield_preprocessed.csv\")"
   ]
  },
  {
   "cell_type": "code",
   "execution_count": 257,
   "metadata": {},
   "outputs": [
    {
     "data": {
      "text/html": [
       "<div>\n",
       "<style scoped>\n",
       "    .dataframe tbody tr th:only-of-type {\n",
       "        vertical-align: middle;\n",
       "    }\n",
       "\n",
       "    .dataframe tbody tr th {\n",
       "        vertical-align: top;\n",
       "    }\n",
       "\n",
       "    .dataframe thead th {\n",
       "        text-align: right;\n",
       "    }\n",
       "</style>\n",
       "<table border=\"1\" class=\"dataframe\">\n",
       "  <thead>\n",
       "    <tr style=\"text-align: right;\">\n",
       "      <th></th>\n",
       "      <th>Item</th>\n",
       "      <th>hg/ha_yield</th>\n",
       "      <th>average_rain_fall_mm_per_year</th>\n",
       "      <th>pesticides_tonnes</th>\n",
       "      <th>avg_temp</th>\n",
       "    </tr>\n",
       "  </thead>\n",
       "  <tbody>\n",
       "    <tr>\n",
       "      <th>10658</th>\n",
       "      <td>Maize</td>\n",
       "      <td>16015</td>\n",
       "      <td>1083.0</td>\n",
       "      <td>66388.00</td>\n",
       "      <td>24.34</td>\n",
       "    </tr>\n",
       "    <tr>\n",
       "      <th>22809</th>\n",
       "      <td>Sorghum</td>\n",
       "      <td>38182</td>\n",
       "      <td>3142.0</td>\n",
       "      <td>105.00</td>\n",
       "      <td>25.08</td>\n",
       "    </tr>\n",
       "    <tr>\n",
       "      <th>7616</th>\n",
       "      <td>Potatoes</td>\n",
       "      <td>58531</td>\n",
       "      <td>2274.0</td>\n",
       "      <td>9666.87</td>\n",
       "      <td>22.01</td>\n",
       "    </tr>\n",
       "    <tr>\n",
       "      <th>5105</th>\n",
       "      <td>Yams</td>\n",
       "      <td>78947</td>\n",
       "      <td>1604.0</td>\n",
       "      <td>630.12</td>\n",
       "      <td>24.98</td>\n",
       "    </tr>\n",
       "  </tbody>\n",
       "</table>\n",
       "</div>"
      ],
      "text/plain": [
       "           Item  hg/ha_yield  average_rain_fall_mm_per_year  \\\n",
       "10658     Maize        16015                         1083.0   \n",
       "22809   Sorghum        38182                         3142.0   \n",
       "7616   Potatoes        58531                         2274.0   \n",
       "5105       Yams        78947                         1604.0   \n",
       "\n",
       "       pesticides_tonnes  avg_temp  \n",
       "10658           66388.00     24.34  \n",
       "22809             105.00     25.08  \n",
       "7616             9666.87     22.01  \n",
       "5105              630.12     24.98  "
      ]
     },
     "execution_count": 257,
     "metadata": {},
     "output_type": "execute_result"
    }
   ],
   "source": [
    "data_preprocessed.sample(4)"
   ]
  },
  {
   "cell_type": "code",
   "execution_count": 266,
   "metadata": {},
   "outputs": [],
   "source": [
    "inputs = data_preprocessed.iloc[:,1:-1]\n",
    "targets = data_preprocessed.iloc[:,0:1]"
   ]
  },
  {
   "cell_type": "code",
   "execution_count": 267,
   "metadata": {},
   "outputs": [],
   "source": [
    "input_scaler = StandardScaler()\n",
    "input_scaler.fit(inputs)\n",
    "input_scaled = input_scaler.transform(inputs)"
   ]
  },
  {
   "cell_type": "code",
   "execution_count": 268,
   "metadata": {},
   "outputs": [
    {
     "data": {
      "text/plain": [
       "array([[-0.47156037,  0.47905342, -0.66263568],\n",
       "       [-0.08594389,  0.47905342, -0.66263568],\n",
       "       [-0.64195323,  0.47905342, -0.66263568],\n",
       "       ...,\n",
       "       [-0.77271178, -0.68151298, -0.61482275],\n",
       "       [-0.65620823, -0.68151298, -0.61482275],\n",
       "       [-0.64766293, -0.68151298, -0.61482275]])"
      ]
     },
     "execution_count": 268,
     "metadata": {},
     "output_type": "execute_result"
    }
   ],
   "source": [
    "input_scaled"
   ]
  },
  {
   "cell_type": "code",
   "execution_count": 269,
   "metadata": {},
   "outputs": [
    {
     "data": {
      "text/plain": [
       "(27658, 3)"
      ]
     },
     "execution_count": 269,
     "metadata": {},
     "output_type": "execute_result"
    }
   ],
   "source": [
    "input_scaled.shape"
   ]
  },
  {
   "cell_type": "code",
   "execution_count": 270,
   "metadata": {},
   "outputs": [],
   "source": [
    "from sklearn.model_selection import train_test_split\n",
    "# declare 4 variables for the split\n",
    "x_train, x_test, y_train, y_test = train_test_split(input_scaled, targets, test_size = 0.2, random_state = 20)"
   ]
  },
  {
   "cell_type": "code",
   "execution_count": 271,
   "metadata": {},
   "outputs": [
    {
     "name": "stdout",
     "output_type": "stream",
     "text": [
      "(22126, 3) (22126, 1)\n",
      "(5532, 3) (5532, 1)\n"
     ]
    }
   ],
   "source": [
    "print (x_train.shape, y_train.shape)\n",
    "print (x_test.shape, y_test.shape)"
   ]
  },
  {
   "cell_type": "code",
   "execution_count": 272,
   "metadata": {},
   "outputs": [
    {
     "data": {
      "text/plain": [
       "DecisionTreeClassifier()"
      ]
     },
     "execution_count": 272,
     "metadata": {},
     "output_type": "execute_result"
    }
   ],
   "source": [
    "from sklearn.tree import DecisionTreeClassifier\n",
    "clf=DecisionTreeClassifier()\n",
    "clf.fit(x_train,y_train)"
   ]
  },
  {
   "cell_type": "code",
   "execution_count": 273,
   "metadata": {},
   "outputs": [
    {
     "data": {
      "text/plain": [
       "0.998960498960499"
      ]
     },
     "execution_count": 273,
     "metadata": {},
     "output_type": "execute_result"
    }
   ],
   "source": [
    "clf.score(x_train,y_train)"
   ]
  },
  {
   "cell_type": "code",
   "execution_count": 274,
   "metadata": {},
   "outputs": [
    {
     "data": {
      "text/plain": [
       "0.8550253073029646"
      ]
     },
     "execution_count": 274,
     "metadata": {},
     "output_type": "execute_result"
    }
   ],
   "source": [
    "prediction = clf.predict(x_test)\n",
    "from sklearn.metrics import accuracy_score\n",
    "accuracy_score(prediction,y_test)"
   ]
  },
  {
   "cell_type": "markdown",
   "metadata": {},
   "source": [
    "# Post pruning decision trees with cost complexity pruning\n",
    "\n",
    "\n",
    ".. currentmodule:: sklearn.tree\n",
    "\n",
    "The :class:`DecisionTreeClassifier` provides parameters such as\n",
    "``min_samples_leaf`` and ``max_depth`` to prevent a tree from overfiting. Cost\n",
    "complexity pruning provides another option to control the size of a tree. In\n",
    ":class:`DecisionTreeClassifier`, this pruning technique is parameterized by the\n",
    "cost complexity parameter, ``ccp_alpha``. Greater values of ``ccp_alpha``\n",
    "increase the number of nodes pruned. Here we only show the effect of\n",
    "``ccp_alpha`` on regularizing the trees and how to choose a ``ccp_alpha``\n",
    "based on validation scores.\n",
    "\n",
    "See also `minimal_cost_complexity_pruning` for details on pruning.\n"
   ]
  },
  {
   "cell_type": "code",
   "execution_count": 275,
   "metadata": {},
   "outputs": [],
   "source": [
    "from sklearn import tree\n",
    "#plt.figure(figsize=(15,10))\n",
    "#tree.plot_tree(clf,filled=True)"
   ]
  },
  {
   "cell_type": "code",
   "execution_count": 302,
   "metadata": {},
   "outputs": [
    {
     "data": {
      "text/plain": [
       "array([0.00000000e+00, 3.01304649e-06, 7.53261623e-06, ...,\n",
       "       1.92448554e-02, 2.28889790e-02, 7.89763912e-02])"
      ]
     },
     "execution_count": 302,
     "metadata": {},
     "output_type": "execute_result"
    }
   ],
   "source": [
    "path = clf.cost_complexity_pruning_path(x_train, y_train)\n",
    "ccp_alphas, impurities = path.ccp_alphas, path.impurities\n",
    "ccp_alphas"
   ]
  },
  {
   "cell_type": "code",
   "execution_count": 277,
   "metadata": {},
   "outputs": [
    {
     "name": "stdout",
     "output_type": "stream",
     "text": [
      "Number of nodes in the last tree is: 1 with ccp_alpha: 0.07897639118053579\n"
     ]
    }
   ],
   "source": [
    "clfs = []\n",
    "for ccp_alpha in ccp_alphas:\n",
    "    clf = DecisionTreeClassifier(random_state=0, ccp_alpha=ccp_alpha)\n",
    "    clf.fit(x_train, y_train)\n",
    "    clfs.append(clf)\n",
    "print(\"Number of nodes in the last tree is: {} with ccp_alpha: {}\".format(\n",
    "      clfs[-1].tree_.node_count, ccp_alphas[-1]))"
   ]
  },
  {
   "cell_type": "markdown",
   "metadata": {},
   "source": [
    "For the remainder of this example, we remove the last element in clfs and ccp_alphas, because it is the trivial tree with only one node. Here we show that the number of nodes and tree depth decreases as alpha increases."
   ]
  },
  {
   "cell_type": "markdown",
   "metadata": {},
   "source": [
    "# Accuracy vs alpha for training and testing sets\n",
    "When ccp_alpha is set to zero and keeping the other default parameters of :class:DecisionTreeClassifier, the tree overfits, leading to a 100% training accuracy and 82% testing accuracy. As alpha increases, more of the tree is pruned, thus creating a decision tree that generalizes better. In this example, setting ccp_alpha=0.000026 maximizes the testing accuracy."
   ]
  },
  {
   "cell_type": "code",
   "execution_count": 232,
   "metadata": {},
   "outputs": [
    {
     "data": {
      "image/png": "[encoded data removed]",
      "text/plain": [
       "<Figure size 432x288 with 1 Axes>"
      ]
     },
     "metadata": {},
     "output_type": "display_data"
    }
   ],
   "source": [
    "train_scores = [clf.score(x_train, y_train) for clf in clfs]\n",
    "test_scores = [clf.score(x_test, y_test) for clf in clfs]\n",
    "\n",
    "fig, ax = plt.subplots()\n",
    "ax.set_xlabel(\"alpha\")\n",
    "ax.set_ylabel(\"accuracy\")\n",
    "ax.set_title(\"Accuracy vs alpha for training and testing sets\")\n",
    "ax.plot(ccp_alphas, train_scores, marker='o', label=\"train\",\n",
    "        drawstyle=\"steps-post\")\n",
    "ax.plot(ccp_alphas, test_scores, marker='o', label=\"test\",\n",
    "        drawstyle=\"steps-post\")\n",
    "ax.legend()\n",
    "plt.show()"
   ]
  },
  {
   "cell_type": "code",
   "execution_count": 300,
   "metadata": {},
   "outputs": [
    {
     "data": {
      "text/plain": [
       "DecisionTreeClassifier(ccp_alpha=2.6e-05, random_state=0)"
      ]
     },
     "execution_count": 300,
     "metadata": {},
     "output_type": "execute_result"
    }
   ],
   "source": [
    "clf = DecisionTreeClassifier(random_state=0, ccp_alpha=0.000026)\n",
    "clf.fit(x_train,y_train)"
   ]
  },
  {
   "cell_type": "code",
   "execution_count": 301,
   "metadata": {},
   "outputs": [
    {
     "data": {
      "text/plain": [
       "0.8571945046999276"
      ]
     },
     "execution_count": 301,
     "metadata": {},
     "output_type": "execute_result"
    }
   ],
   "source": [
    "pred=clf.predict(x_test)\n",
    "from sklearn.metrics import accuracy_score\n",
    "accuracy_score(y_test, pred)"
   ]
  },
  {
   "cell_type": "code",
   "execution_count": null,
   "metadata": {},
   "outputs": [],
   "source": []
  }
 ],
 "metadata": {
  "kernelspec": {
   "display_name": "Python 3",
   "language": "python",
   "name": "python3"
  },
  "language_info": {
   "codemirror_mode": {
    "name": "ipython",
    "version": 3
   },
   "file_extension": ".py",
   "mimetype": "text/x-python",
   "name": "python",
   "nbconvert_exporter": "python",
   "pygments_lexer": "ipython3",
   "version": "3.8.5"
  }
 },
 "nbformat": 4,
 "nbformat_minor": 2
}
